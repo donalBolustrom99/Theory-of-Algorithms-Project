{
 "cells": [
  {
   "cell_type": "markdown",
   "metadata": {},
   "source": [
    "# The Polynomial Time Complexity Class (P)\n",
    "## Introduction\n",
    "\n",
    "This is a notebook created as a Project for the Theory of Algorithms Module attended in 2023 in ATU.\n",
    "In this notebook we will explore a wide range of text, code, plots, mathematical notations, graphics and more.\n",
    "\n",
    "Before continuing I would like to explore the title of this notebook more, as at first glance it can sound quite daunting. Let's get started.\n",
    "\n",
    "#### Polynomial Time: \n",
    "Polynomial time refers to an algorithmic time complexity measure, which represents the running time of an algorithm. An algorithm is said to run in polynomial time if its running time is proportional to a polynomial function of the input size. For example, an algorithm that takes O(n^2) time to solve a problem with an input of size n runs in polynomial time, because its running time is proportional to n^2\n",
    "\n",
    "#### Complexity Class: \n",
    "A complexity class is a group of computational problems that have a shared property related to their computational complexity. This means that all problems in a particular complexity class require a similar amount of computational resources, such as time or space. Most time Complexity Classes are defined depended on the resources that are required to solve the related problem. Examples of this would be NP, which are decision problems that are solved in Polynomial Time, and of course P which we will dive into this notebook. <a href=>[^2]\n",
    "\n",
    "#### (P)\n",
    "P is the notation for Polynomial Time Complexity Class, so what we have descirbed above can be said as P. Overall this is a representation of the set of decision problems that can be solved in Polynomial Time. This can be done using the famous Turing Machine "
   ]
  },
  {
   "cell_type": "markdown",
   "metadata": {},
   "source": [
    "# References\n",
    "[2]Complexity Class Wikipedia: https://en.wikipedia.org/wiki/Complexity_class"
   ]
  },
  {
   "cell_type": "code",
   "execution_count": null,
   "metadata": {},
   "outputs": [],
   "source": []
  }
 ],
 "metadata": {
  "kernelspec": {
   "display_name": "Python 3 (ipykernel)",
   "language": "python",
   "name": "python3"
  },
  "language_info": {
   "codemirror_mode": {
    "name": "ipython",
    "version": 3
   },
   "file_extension": ".py",
   "mimetype": "text/x-python",
   "name": "python",
   "nbconvert_exporter": "python",
   "pygments_lexer": "ipython3",
   "version": "3.10.9"
  },
  "vscode": {
   "interpreter": {
    "hash": "ec6d962f2a2cd2920672f8e589d8c5f1e2079a1332fa9b91a36e33a2fbba6566"
   }
  }
 },
 "nbformat": 4,
 "nbformat_minor": 2
}
