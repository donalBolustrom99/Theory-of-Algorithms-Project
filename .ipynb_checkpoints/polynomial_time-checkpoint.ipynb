{
 "cells": [
  {
   "cell_type": "markdown",
   "metadata": {},
   "source": [
    "# The Polynomial Time Complexity Class (P)\n",
    "## Introduction\n",
    "\n",
    "This is a notebook created as a Project for the Theory of Algorithms Module attended in 2023 in ATU.\n",
    "In this notebook we will explore a wide range of text, code, plots, mathematical notations, graphics and more.\n",
    "\n",
    "Before continuing I would like to explore the title of this notebook more, as at first glance it can sound quite daunting. Let's get started.\n",
    "\n",
    "#### Polynomial Time: \n",
    "Polynomial time refers to an algorithmic time complexity measure, which represents the running time of an algorithm. An algorithm is said to run in polynomial time if its running time is proportional to a polynomial function of the input size. For example, an algorithm that takes O(n^2) time to solve a problem with an input of size n runs in polynomial time, because its running time is proportional to n^2\n",
    "\n",
    "#### Complexity Class: \n"
   ]
  },
  {
   "cell_type": "code",
   "execution_count": null,
   "metadata": {},
   "outputs": [],
   "source": []
  }
 ],
 "metadata": {
  "kernelspec": {
   "display_name": "Python 3 (ipykernel)",
   "language": "python",
   "name": "python3"
  },
  "language_info": {
   "codemirror_mode": {
    "name": "ipython",
    "version": 3
   },
   "file_extension": ".py",
   "mimetype": "text/x-python",
   "name": "python",
   "nbconvert_exporter": "python",
   "pygments_lexer": "ipython3",
   "version": "3.9.15"
  },
  "vscode": {
   "interpreter": {
    "hash": "ec6d962f2a2cd2920672f8e589d8c5f1e2079a1332fa9b91a36e33a2fbba6566"
   }
  }
 },
 "nbformat": 4,
 "nbformat_minor": 2
}
